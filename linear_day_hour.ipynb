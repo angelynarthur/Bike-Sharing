{
 "cells": [
  {
   "cell_type": "code",
   "execution_count": 11,
   "metadata": {},
   "outputs": [
    {
     "name": "stdout",
     "output_type": "stream",
     "text": [
      "Populating the interactive namespace from numpy and matplotlib\n"
     ]
    }
   ],
   "source": [
    "import numpy as np\n",
    "import pandas as pd\n",
    "%pylab inline\n",
    "\n",
    "\n",
    "import statsmodels.formula.api as smf"
   ]
  },
  {
   "cell_type": "code",
   "execution_count": 3,
   "metadata": {},
   "outputs": [],
   "source": [
    "day = pd.read_csv('day.csv')"
   ]
  },
  {
   "cell_type": "code",
   "execution_count": 4,
   "metadata": {},
   "outputs": [
    {
     "data": {
      "text/plain": [
       "(731, 16)"
      ]
     },
     "execution_count": 4,
     "metadata": {},
     "output_type": "execute_result"
    }
   ],
   "source": [
    "day.shape"
   ]
  },
  {
   "cell_type": "code",
   "execution_count": 5,
   "metadata": {},
   "outputs": [
    {
     "data": {
      "text/plain": [
       "<bound method NDFrame.head of      instant      dteday  season  yr  mnth  holiday  weekday  workingday  \\\n",
       "0          1  2011-01-01       1   0     1        0        6           0   \n",
       "1          2  2011-01-02       1   0     1        0        0           0   \n",
       "2          3  2011-01-03       1   0     1        0        1           1   \n",
       "3          4  2011-01-04       1   0     1        0        2           1   \n",
       "4          5  2011-01-05       1   0     1        0        3           1   \n",
       "..       ...         ...     ...  ..   ...      ...      ...         ...   \n",
       "726      727  2012-12-27       1   1    12        0        4           1   \n",
       "727      728  2012-12-28       1   1    12        0        5           1   \n",
       "728      729  2012-12-29       1   1    12        0        6           0   \n",
       "729      730  2012-12-30       1   1    12        0        0           0   \n",
       "730      731  2012-12-31       1   1    12        0        1           1   \n",
       "\n",
       "     weathersit      temp     atemp       hum  windspeed  casual  registered  \\\n",
       "0             2  0.344167  0.363625  0.805833   0.160446     331         654   \n",
       "1             2  0.363478  0.353739  0.696087   0.248539     131         670   \n",
       "2             1  0.196364  0.189405  0.437273   0.248309     120        1229   \n",
       "3             1  0.200000  0.212122  0.590435   0.160296     108        1454   \n",
       "4             1  0.226957  0.229270  0.436957   0.186900      82        1518   \n",
       "..          ...       ...       ...       ...        ...     ...         ...   \n",
       "726           2  0.254167  0.226642  0.652917   0.350133     247        1867   \n",
       "727           2  0.253333  0.255046  0.590000   0.155471     644        2451   \n",
       "728           2  0.253333  0.242400  0.752917   0.124383     159        1182   \n",
       "729           1  0.255833  0.231700  0.483333   0.350754     364        1432   \n",
       "730           2  0.215833  0.223487  0.577500   0.154846     439        2290   \n",
       "\n",
       "      cnt  \n",
       "0     985  \n",
       "1     801  \n",
       "2    1349  \n",
       "3    1562  \n",
       "4    1600  \n",
       "..    ...  \n",
       "726  2114  \n",
       "727  3095  \n",
       "728  1341  \n",
       "729  1796  \n",
       "730  2729  \n",
       "\n",
       "[731 rows x 16 columns]>"
      ]
     },
     "execution_count": 5,
     "metadata": {},
     "output_type": "execute_result"
    }
   ],
   "source": [
    "day.head"
   ]
  },
  {
   "cell_type": "code",
   "execution_count": 6,
   "metadata": {},
   "outputs": [],
   "source": [
    "hour = pd.read_csv('hour.csv')"
   ]
  },
  {
   "cell_type": "code",
   "execution_count": 7,
   "metadata": {},
   "outputs": [
    {
     "data": {
      "text/plain": [
       "<bound method NDFrame.head of        instant      dteday  season  yr  mnth  hr  holiday  weekday  \\\n",
       "0            1  2011-01-01       1   0     1   0        0        6   \n",
       "1            2  2011-01-01       1   0     1   1        0        6   \n",
       "2            3  2011-01-01       1   0     1   2        0        6   \n",
       "3            4  2011-01-01       1   0     1   3        0        6   \n",
       "4            5  2011-01-01       1   0     1   4        0        6   \n",
       "...        ...         ...     ...  ..   ...  ..      ...      ...   \n",
       "17374    17375  2012-12-31       1   1    12  19        0        1   \n",
       "17375    17376  2012-12-31       1   1    12  20        0        1   \n",
       "17376    17377  2012-12-31       1   1    12  21        0        1   \n",
       "17377    17378  2012-12-31       1   1    12  22        0        1   \n",
       "17378    17379  2012-12-31       1   1    12  23        0        1   \n",
       "\n",
       "       workingday  weathersit  temp   atemp   hum  windspeed  casual  \\\n",
       "0               0           1  0.24  0.2879  0.81     0.0000       3   \n",
       "1               0           1  0.22  0.2727  0.80     0.0000       8   \n",
       "2               0           1  0.22  0.2727  0.80     0.0000       5   \n",
       "3               0           1  0.24  0.2879  0.75     0.0000       3   \n",
       "4               0           1  0.24  0.2879  0.75     0.0000       0   \n",
       "...           ...         ...   ...     ...   ...        ...     ...   \n",
       "17374           1           2  0.26  0.2576  0.60     0.1642      11   \n",
       "17375           1           2  0.26  0.2576  0.60     0.1642       8   \n",
       "17376           1           1  0.26  0.2576  0.60     0.1642       7   \n",
       "17377           1           1  0.26  0.2727  0.56     0.1343      13   \n",
       "17378           1           1  0.26  0.2727  0.65     0.1343      12   \n",
       "\n",
       "       registered  cnt  \n",
       "0              13   16  \n",
       "1              32   40  \n",
       "2              27   32  \n",
       "3              10   13  \n",
       "4               1    1  \n",
       "...           ...  ...  \n",
       "17374         108  119  \n",
       "17375          81   89  \n",
       "17376          83   90  \n",
       "17377          48   61  \n",
       "17378          37   49  \n",
       "\n",
       "[17379 rows x 17 columns]>"
      ]
     },
     "execution_count": 7,
     "metadata": {},
     "output_type": "execute_result"
    }
   ],
   "source": [
    "hour.head"
   ]
  },
  {
   "cell_type": "code",
   "execution_count": 9,
   "metadata": {},
   "outputs": [
    {
     "data": {
      "text/plain": [
       "<matplotlib.axes._subplots.AxesSubplot at 0x11eb0d278>"
      ]
     },
     "execution_count": 9,
     "metadata": {},
     "output_type": "execute_result"
    },
    {
     "data": {
      "image/png": "[encoded data removed]",
      "text/plain": [
       "<Figure size 432x288 with 1 Axes>"
      ]
     },
     "metadata": {
      "needs_background": "light"
     },
     "output_type": "display_data"
    }
   ],
   "source": [
    "# Single variable regression\n",
    "day.plot('cnt','temp',kind='scatter')"
   ]
  },
  {
   "cell_type": "code",
   "execution_count": 16,
   "metadata": {
    "scrolled": false
   },
   "outputs": [
    {
     "name": "stdout",
     "output_type": "stream",
     "text": [
      "0.0001 0.0\n"
     ]
    },
    {
     "data": {
      "text/plain": [
       "(0, 10000)"
      ]
     },
     "execution_count": 16,
     "metadata": {},
     "output_type": "execute_result"
    },
    {
     "data": {
      "image/png": "[encoded data removed]",
      "text/plain": [
       "<Figure size 432x288 with 1 Axes>"
      ]
     },
     "metadata": {
      "needs_background": "light"
     },
     "output_type": "display_data"
    }
   ],
   "source": [
    "# Make a guess at the line of best fit\n",
    "first_point = [0,0]\n",
    "second_point = [10000, 1.0]\n",
    "\n",
    "# Solve \n",
    "def get_line_equation(p1, p2):\n",
    "    \"\"\"\n",
    "    Solve the system of equations:\n",
    "    y1 = m*x1 + b\n",
    "    y2 = m*x2 + b\n",
    "    \n",
    "    Input:\n",
    "    p1: first point [x1, y1]\n",
    "    p2: second point [x2, y2]\n",
    "    \n",
    "    returns: slope, intercept\n",
    "    \"\"\"\n",
    "    X = [[p1[0], 1], [p2[0], 1]]\n",
    "    y = [[p1[1]], [p2[1]]]\n",
    "    soln = np.linalg.solve(X,y)\n",
    "    return  soln[0][0], soln[1][0]\n",
    "\n",
    "slope, intercept = get_line_equation(first_point, second_point)\n",
    "\n",
    "print(slope, intercept)\n",
    "\n",
    "# Plot the line along with the data\n",
    "ax = day.plot('cnt','temp',kind='scatter')\n",
    "xx = np.linspace(0, 10000, 100)\n",
    "ax.plot(xx, xx*slope + intercept, color='red', lw=3)\n",
    "ax.set_xlim([0,10000])"
   ]
  },
  {
   "cell_type": "code",
   "execution_count": 16,
   "metadata": {},
   "outputs": [
    {
     "data": {
      "text/html": [
       "<table class=\"simpletable\">\n",
       "<caption>OLS Regression Results</caption>\n",
       "<tr>\n",
       "  <th>Dep. Variable:</th>           <td>cnt</td>       <th>  R-squared:         </th> <td>   0.498</td> \n",
       "</tr>\n",
       "<tr>\n",
       "  <th>Model:</th>                   <td>OLS</td>       <th>  Adj. R-squared:    </th> <td>   0.496</td> \n",
       "</tr>\n",
       "<tr>\n",
       "  <th>Method:</th>             <td>Least Squares</td>  <th>  F-statistic:       </th> <td>   240.1</td> \n",
       "</tr>\n",
       "<tr>\n",
       "  <th>Date:</th>             <td>Tue, 19 Nov 2019</td> <th>  Prob (F-statistic):</th> <td>3.16e-108</td>\n",
       "</tr>\n",
       "<tr>\n",
       "  <th>Time:</th>                 <td>11:16:05</td>     <th>  Log-Likelihood:    </th> <td> -6318.1</td> \n",
       "</tr>\n",
       "<tr>\n",
       "  <th>No. Observations:</th>      <td>   731</td>      <th>  AIC:               </th> <td>1.264e+04</td>\n",
       "</tr>\n",
       "<tr>\n",
       "  <th>Df Residuals:</th>          <td>   727</td>      <th>  BIC:               </th> <td>1.266e+04</td>\n",
       "</tr>\n",
       "<tr>\n",
       "  <th>Df Model:</th>              <td>     3</td>      <th>                     </th>     <td> </td>    \n",
       "</tr>\n",
       "<tr>\n",
       "  <th>Covariance Type:</th>      <td>nonrobust</td>    <th>                     </th>     <td> </td>    \n",
       "</tr>\n",
       "</table>\n",
       "<table class=\"simpletable\">\n",
       "<tr>\n",
       "      <td></td>         <th>coef</th>     <th>std err</th>      <th>t</th>      <th>P>|t|</th>  <th>[0.025</th>    <th>0.975]</th>  \n",
       "</tr>\n",
       "<tr>\n",
       "  <th>Intercept</th> <td> 1638.9446</td> <td>  135.316</td> <td>   12.112</td> <td> 0.000</td> <td> 1373.287</td> <td> 1904.602</td>\n",
       "</tr>\n",
       "<tr>\n",
       "  <th>season</th>    <td>  980.2427</td> <td>   82.509</td> <td>   11.880</td> <td> 0.000</td> <td>  818.258</td> <td> 1142.227</td>\n",
       "</tr>\n",
       "<tr>\n",
       "  <th>yr</th>        <td> 2196.8933</td> <td>  101.777</td> <td>   21.585</td> <td> 0.000</td> <td> 1997.082</td> <td> 2396.705</td>\n",
       "</tr>\n",
       "<tr>\n",
       "  <th>mnth</th>      <td> -104.5731</td> <td>   26.551</td> <td>   -3.939</td> <td> 0.000</td> <td> -156.699</td> <td>  -52.447</td>\n",
       "</tr>\n",
       "</table>\n",
       "<table class=\"simpletable\">\n",
       "<tr>\n",
       "  <th>Omnibus:</th>       <td>36.432</td> <th>  Durbin-Watson:     </th> <td>   0.623</td>\n",
       "</tr>\n",
       "<tr>\n",
       "  <th>Prob(Omnibus):</th> <td> 0.000</td> <th>  Jarque-Bera (JB):  </th> <td>  42.589</td>\n",
       "</tr>\n",
       "<tr>\n",
       "  <th>Skew:</th>          <td>-0.509</td> <th>  Prob(JB):          </th> <td>5.65e-10</td>\n",
       "</tr>\n",
       "<tr>\n",
       "  <th>Kurtosis:</th>      <td> 3.603</td> <th>  Cond. No.          </th> <td>    23.2</td>\n",
       "</tr>\n",
       "</table><br/><br/>Warnings:<br/>[1] Standard Errors assume that the covariance matrix of the errors is correctly specified."
      ],
      "text/plain": [
       "<class 'statsmodels.iolib.summary.Summary'>\n",
       "\"\"\"\n",
       "                            OLS Regression Results                            \n",
       "==============================================================================\n",
       "Dep. Variable:                    cnt   R-squared:                       0.498\n",
       "Model:                            OLS   Adj. R-squared:                  0.496\n",
       "Method:                 Least Squares   F-statistic:                     240.1\n",
       "Date:                Tue, 19 Nov 2019   Prob (F-statistic):          3.16e-108\n",
       "Time:                        11:16:05   Log-Likelihood:                -6318.1\n",
       "No. Observations:                 731   AIC:                         1.264e+04\n",
       "Df Residuals:                     727   BIC:                         1.266e+04\n",
       "Df Model:                           3                                         \n",
       "Covariance Type:            nonrobust                                         \n",
       "==============================================================================\n",
       "                 coef    std err          t      P>|t|      [0.025      0.975]\n",
       "------------------------------------------------------------------------------\n",
       "Intercept   1638.9446    135.316     12.112      0.000    1373.287    1904.602\n",
       "season       980.2427     82.509     11.880      0.000     818.258    1142.227\n",
       "yr          2196.8933    101.777     21.585      0.000    1997.082    2396.705\n",
       "mnth        -104.5731     26.551     -3.939      0.000    -156.699     -52.447\n",
       "==============================================================================\n",
       "Omnibus:                       36.432   Durbin-Watson:                   0.623\n",
       "Prob(Omnibus):                  0.000   Jarque-Bera (JB):               42.589\n",
       "Skew:                          -0.509   Prob(JB):                     5.65e-10\n",
       "Kurtosis:                       3.603   Cond. No.                         23.2\n",
       "==============================================================================\n",
       "\n",
       "Warnings:\n",
       "[1] Standard Errors assume that the covariance matrix of the errors is correctly specified.\n",
       "\"\"\""
      ]
     },
     "execution_count": 16,
     "metadata": {},
     "output_type": "execute_result"
    }
   ],
   "source": [
    "formula = 'cnt ~ season + yr + mnth'\n",
    "\n",
    "fitted_model = smf.ols(formula=formula, data=day).fit()\n",
    "fitted_model.summary()"
   ]
  },
  {
   "cell_type": "code",
   "execution_count": 17,
   "metadata": {},
   "outputs": [
    {
     "data": {
      "text/html": [
       "<table class=\"simpletable\">\n",
       "<caption>OLS Regression Results</caption>\n",
       "<tr>\n",
       "  <th>Dep. Variable:</th>           <td>cnt</td>       <th>  R-squared:         </th> <td>   0.738</td> \n",
       "</tr>\n",
       "<tr>\n",
       "  <th>Model:</th>                   <td>OLS</td>       <th>  Adj. R-squared:    </th> <td>   0.733</td> \n",
       "</tr>\n",
       "<tr>\n",
       "  <th>Method:</th>             <td>Least Squares</td>  <th>  F-statistic:       </th> <td>   134.3</td> \n",
       "</tr>\n",
       "<tr>\n",
       "  <th>Date:</th>             <td>Tue, 19 Nov 2019</td> <th>  Prob (F-statistic):</th> <td>3.25e-196</td>\n",
       "</tr>\n",
       "<tr>\n",
       "  <th>Time:</th>                 <td>11:32:28</td>     <th>  Log-Likelihood:    </th> <td> -6080.1</td> \n",
       "</tr>\n",
       "<tr>\n",
       "  <th>No. Observations:</th>      <td>   731</td>      <th>  AIC:               </th> <td>1.219e+04</td>\n",
       "</tr>\n",
       "<tr>\n",
       "  <th>Df Residuals:</th>          <td>   715</td>      <th>  BIC:               </th> <td>1.227e+04</td>\n",
       "</tr>\n",
       "<tr>\n",
       "  <th>Df Model:</th>              <td>    15</td>      <th>                     </th>     <td> </td>    \n",
       "</tr>\n",
       "<tr>\n",
       "  <th>Covariance Type:</th>      <td>nonrobust</td>    <th>                     </th>     <td> </td>    \n",
       "</tr>\n",
       "</table>\n",
       "<table class=\"simpletable\">\n",
       "<tr>\n",
       "         <td></td>           <th>coef</th>     <th>std err</th>      <th>t</th>      <th>P>|t|</th>  <th>[0.025</th>    <th>0.975]</th>  \n",
       "</tr>\n",
       "<tr>\n",
       "  <th>Intercept</th>      <td> 1076.6985</td> <td>  132.519</td> <td>    8.125</td> <td> 0.000</td> <td>  816.527</td> <td> 1336.870</td>\n",
       "</tr>\n",
       "<tr>\n",
       "  <th>C(season)[T.2]</th> <td>  747.9328</td> <td>  232.741</td> <td>    3.214</td> <td> 0.001</td> <td>  290.994</td> <td> 1204.871</td>\n",
       "</tr>\n",
       "<tr>\n",
       "  <th>C(season)[T.3]</th> <td> 1117.7702</td> <td>  274.723</td> <td>    4.069</td> <td> 0.000</td> <td>  578.410</td> <td> 1657.131</td>\n",
       "</tr>\n",
       "<tr>\n",
       "  <th>C(season)[T.4]</th> <td> 1894.8922</td> <td>  232.741</td> <td>    8.142</td> <td> 0.000</td> <td> 1437.954</td> <td> 2351.831</td>\n",
       "</tr>\n",
       "<tr>\n",
       "  <th>C(yr)[T.1]</th>     <td> 2199.2804</td> <td>   74.109</td> <td>   29.676</td> <td> 0.000</td> <td> 2053.783</td> <td> 2344.778</td>\n",
       "</tr>\n",
       "<tr>\n",
       "  <th>C(mnth)[T.2]</th>   <td>  459.6676</td> <td>  183.839</td> <td>    2.500</td> <td> 0.013</td> <td>   98.739</td> <td>  820.596</td>\n",
       "</tr>\n",
       "<tr>\n",
       "  <th>C(mnth)[T.3]</th>   <td> 1250.5238</td> <td>  197.981</td> <td>    6.316</td> <td> 0.000</td> <td>  861.829</td> <td> 1639.218</td>\n",
       "</tr>\n",
       "<tr>\n",
       "  <th>C(mnth)[T.4]</th>   <td> 1560.6285</td> <td>  295.101</td> <td>    5.288</td> <td> 0.000</td> <td>  981.261</td> <td> 2139.996</td>\n",
       "</tr>\n",
       "<tr>\n",
       "  <th>C(mnth)[T.5]</th>   <td> 2425.5027</td> <td>  294.185</td> <td>    8.245</td> <td> 0.000</td> <td> 1847.933</td> <td> 3003.072</td>\n",
       "</tr>\n",
       "<tr>\n",
       "  <th>C(mnth)[T.6]</th>   <td> 2724.8160</td> <td>  285.700</td> <td>    9.537</td> <td> 0.000</td> <td> 2163.906</td> <td> 3285.726</td>\n",
       "</tr>\n",
       "<tr>\n",
       "  <th>C(mnth)[T.7]</th>   <td> 2269.5685</td> <td>  328.404</td> <td>    6.911</td> <td> 0.000</td> <td> 1624.818</td> <td> 2914.319</td>\n",
       "</tr>\n",
       "<tr>\n",
       "  <th>C(mnth)[T.8]</th>   <td> 2370.3105</td> <td>  328.404</td> <td>    7.218</td> <td> 0.000</td> <td> 1725.560</td> <td> 3015.061</td>\n",
       "</tr>\n",
       "<tr>\n",
       "  <th>C(mnth)[T.9]</th>   <td> 2265.1752</td> <td>  301.188</td> <td>    7.521</td> <td> 0.000</td> <td> 1673.857</td> <td> 2856.493</td>\n",
       "</tr>\n",
       "<tr>\n",
       "  <th>C(mnth)[T.10]</th>  <td> 1127.9949</td> <td>  294.185</td> <td>    3.834</td> <td> 0.000</td> <td>  550.425</td> <td> 1705.565</td>\n",
       "</tr>\n",
       "<tr>\n",
       "  <th>C(mnth)[T.11]</th>  <td>  175.9524</td> <td>  295.101</td> <td>    0.596</td> <td> 0.551</td> <td> -403.415</td> <td>  755.320</td>\n",
       "</tr>\n",
       "<tr>\n",
       "  <th>C(mnth)[T.12]</th>  <td>    4.9567</td> <td>  234.357</td> <td>    0.021</td> <td> 0.983</td> <td> -455.153</td> <td>  465.066</td>\n",
       "</tr>\n",
       "</table>\n",
       "<table class=\"simpletable\">\n",
       "<tr>\n",
       "  <th>Omnibus:</th>       <td>191.987</td> <th>  Durbin-Watson:     </th> <td>   1.175</td> \n",
       "</tr>\n",
       "<tr>\n",
       "  <th>Prob(Omnibus):</th> <td> 0.000</td>  <th>  Jarque-Bera (JB):  </th> <td> 700.598</td> \n",
       "</tr>\n",
       "<tr>\n",
       "  <th>Skew:</th>          <td>-1.202</td>  <th>  Prob(JB):          </th> <td>7.36e-153</td>\n",
       "</tr>\n",
       "<tr>\n",
       "  <th>Kurtosis:</th>      <td> 7.150</td>  <th>  Cond. No.          </th> <td>    26.6</td> \n",
       "</tr>\n",
       "</table><br/><br/>Warnings:<br/>[1] Standard Errors assume that the covariance matrix of the errors is correctly specified."
      ],
      "text/plain": [
       "<class 'statsmodels.iolib.summary.Summary'>\n",
       "\"\"\"\n",
       "                            OLS Regression Results                            \n",
       "==============================================================================\n",
       "Dep. Variable:                    cnt   R-squared:                       0.738\n",
       "Model:                            OLS   Adj. R-squared:                  0.733\n",
       "Method:                 Least Squares   F-statistic:                     134.3\n",
       "Date:                Tue, 19 Nov 2019   Prob (F-statistic):          3.25e-196\n",
       "Time:                        11:32:28   Log-Likelihood:                -6080.1\n",
       "No. Observations:                 731   AIC:                         1.219e+04\n",
       "Df Residuals:                     715   BIC:                         1.227e+04\n",
       "Df Model:                          15                                         \n",
       "Covariance Type:            nonrobust                                         \n",
       "==================================================================================\n",
       "                     coef    std err          t      P>|t|      [0.025      0.975]\n",
       "----------------------------------------------------------------------------------\n",
       "Intercept       1076.6985    132.519      8.125      0.000     816.527    1336.870\n",
       "C(season)[T.2]   747.9328    232.741      3.214      0.001     290.994    1204.871\n",
       "C(season)[T.3]  1117.7702    274.723      4.069      0.000     578.410    1657.131\n",
       "C(season)[T.4]  1894.8922    232.741      8.142      0.000    1437.954    2351.831\n",
       "C(yr)[T.1]      2199.2804     74.109     29.676      0.000    2053.783    2344.778\n",
       "C(mnth)[T.2]     459.6676    183.839      2.500      0.013      98.739     820.596\n",
       "C(mnth)[T.3]    1250.5238    197.981      6.316      0.000     861.829    1639.218\n",
       "C(mnth)[T.4]    1560.6285    295.101      5.288      0.000     981.261    2139.996\n",
       "C(mnth)[T.5]    2425.5027    294.185      8.245      0.000    1847.933    3003.072\n",
       "C(mnth)[T.6]    2724.8160    285.700      9.537      0.000    2163.906    3285.726\n",
       "C(mnth)[T.7]    2269.5685    328.404      6.911      0.000    1624.818    2914.319\n",
       "C(mnth)[T.8]    2370.3105    328.404      7.218      0.000    1725.560    3015.061\n",
       "C(mnth)[T.9]    2265.1752    301.188      7.521      0.000    1673.857    2856.493\n",
       "C(mnth)[T.10]   1127.9949    294.185      3.834      0.000     550.425    1705.565\n",
       "C(mnth)[T.11]    175.9524    295.101      0.596      0.551    -403.415     755.320\n",
       "C(mnth)[T.12]      4.9567    234.357      0.021      0.983    -455.153     465.066\n",
       "==============================================================================\n",
       "Omnibus:                      191.987   Durbin-Watson:                   1.175\n",
       "Prob(Omnibus):                  0.000   Jarque-Bera (JB):              700.598\n",
       "Skew:                          -1.202   Prob(JB):                    7.36e-153\n",
       "Kurtosis:                       7.150   Cond. No.                         26.6\n",
       "==============================================================================\n",
       "\n",
       "Warnings:\n",
       "[1] Standard Errors assume that the covariance matrix of the errors is correctly specified.\n",
       "\"\"\""
      ]
     },
     "execution_count": 17,
     "metadata": {},
     "output_type": "execute_result"
    }
   ],
   "source": [
    "formula = 'cnt ~ C(season) + C(yr) + C(mnth)'\n",
    "\n",
    "fitted_model = smf.ols(formula=formula, data=day).fit()\n",
    "fitted_model.summary()"
   ]
  },
  {
   "cell_type": "code",
   "execution_count": null,
   "metadata": {},
   "outputs": [],
   "source": []
  },
  {
   "cell_type": "code",
   "execution_count": 21,
   "metadata": {},
   "outputs": [
    {
     "data": {
      "text/plain": [
       "<matplotlib.axes._subplots.AxesSubplot at 0x115d2f7b8>"
      ]
     },
     "execution_count": 21,
     "metadata": {},
     "output_type": "execute_result"
    },
    {
     "data": {
      "image/png": "[encoded data removed]",
      "text/plain": [
       "<Figure size 432x288 with 1 Axes>"
      ]
     },
     "metadata": {
      "needs_background": "light"
     },
     "output_type": "display_data"
    }
   ],
   "source": [
    "# Single variable regression\n",
    "hour.plot('cnt','temp',kind='scatter')"
   ]
  },
  {
   "cell_type": "code",
   "execution_count": 18,
   "metadata": {},
   "outputs": [
    {
     "data": {
      "text/html": [
       "<table class=\"simpletable\">\n",
       "<caption>OLS Regression Results</caption>\n",
       "<tr>\n",
       "  <th>Dep. Variable:</th>           <td>cnt</td>       <th>  R-squared:         </th>  <td>   0.098</td>  \n",
       "</tr>\n",
       "<tr>\n",
       "  <th>Model:</th>                   <td>OLS</td>       <th>  Adj. R-squared:    </th>  <td>   0.098</td>  \n",
       "</tr>\n",
       "<tr>\n",
       "  <th>Method:</th>             <td>Least Squares</td>  <th>  F-statistic:       </th>  <td>   627.4</td>  \n",
       "</tr>\n",
       "<tr>\n",
       "  <th>Date:</th>             <td>Tue, 19 Nov 2019</td> <th>  Prob (F-statistic):</th>   <td>  0.00</td>   \n",
       "</tr>\n",
       "<tr>\n",
       "  <th>Time:</th>                 <td>13:29:24</td>     <th>  Log-Likelihood:    </th> <td>-1.1415e+05</td>\n",
       "</tr>\n",
       "<tr>\n",
       "  <th>No. Observations:</th>      <td> 17379</td>      <th>  AIC:               </th>  <td>2.283e+05</td> \n",
       "</tr>\n",
       "<tr>\n",
       "  <th>Df Residuals:</th>          <td> 17375</td>      <th>  BIC:               </th>  <td>2.283e+05</td> \n",
       "</tr>\n",
       "<tr>\n",
       "  <th>Df Model:</th>              <td>     3</td>      <th>                     </th>      <td> </td>     \n",
       "</tr>\n",
       "<tr>\n",
       "  <th>Covariance Type:</th>      <td>nonrobust</td>    <th>                     </th>      <td> </td>     \n",
       "</tr>\n",
       "</table>\n",
       "<table class=\"simpletable\">\n",
       "<tr>\n",
       "      <td></td>         <th>coef</th>     <th>std err</th>      <th>t</th>      <th>P>|t|</th>  <th>[0.025</th>    <th>0.975]</th>  \n",
       "</tr>\n",
       "<tr>\n",
       "  <th>Intercept</th> <td>   69.7465</td> <td>    3.500</td> <td>   19.928</td> <td> 0.000</td> <td>   62.886</td> <td>   76.607</td>\n",
       "</tr>\n",
       "<tr>\n",
       "  <th>season</th>    <td>   41.3791</td> <td>    2.119</td> <td>   19.525</td> <td> 0.000</td> <td>   37.225</td> <td>   45.533</td>\n",
       "</tr>\n",
       "<tr>\n",
       "  <th>yr</th>        <td>   91.5277</td> <td>    2.614</td> <td>   35.010</td> <td> 0.000</td> <td>   86.403</td> <td>   96.652</td>\n",
       "</tr>\n",
       "<tr>\n",
       "  <th>mnth</th>      <td>   -4.5577</td> <td>    0.682</td> <td>   -6.681</td> <td> 0.000</td> <td>   -5.895</td> <td>   -3.221</td>\n",
       "</tr>\n",
       "</table>\n",
       "<table class=\"simpletable\">\n",
       "<tr>\n",
       "  <th>Omnibus:</th>       <td>2505.288</td> <th>  Durbin-Watson:     </th> <td>   0.346</td>\n",
       "</tr>\n",
       "<tr>\n",
       "  <th>Prob(Omnibus):</th>  <td> 0.000</td>  <th>  Jarque-Bera (JB):  </th> <td>3848.756</td>\n",
       "</tr>\n",
       "<tr>\n",
       "  <th>Skew:</th>           <td> 1.031</td>  <th>  Prob(JB):          </th> <td>    0.00</td>\n",
       "</tr>\n",
       "<tr>\n",
       "  <th>Kurtosis:</th>       <td> 4.033</td>  <th>  Cond. No.          </th> <td>    23.4</td>\n",
       "</tr>\n",
       "</table><br/><br/>Warnings:<br/>[1] Standard Errors assume that the covariance matrix of the errors is correctly specified."
      ],
      "text/plain": [
       "<class 'statsmodels.iolib.summary.Summary'>\n",
       "\"\"\"\n",
       "                            OLS Regression Results                            \n",
       "==============================================================================\n",
       "Dep. Variable:                    cnt   R-squared:                       0.098\n",
       "Model:                            OLS   Adj. R-squared:                  0.098\n",
       "Method:                 Least Squares   F-statistic:                     627.4\n",
       "Date:                Tue, 19 Nov 2019   Prob (F-statistic):               0.00\n",
       "Time:                        13:29:24   Log-Likelihood:            -1.1415e+05\n",
       "No. Observations:               17379   AIC:                         2.283e+05\n",
       "Df Residuals:                   17375   BIC:                         2.283e+05\n",
       "Df Model:                           3                                         \n",
       "Covariance Type:            nonrobust                                         \n",
       "==============================================================================\n",
       "                 coef    std err          t      P>|t|      [0.025      0.975]\n",
       "------------------------------------------------------------------------------\n",
       "Intercept     69.7465      3.500     19.928      0.000      62.886      76.607\n",
       "season        41.3791      2.119     19.525      0.000      37.225      45.533\n",
       "yr            91.5277      2.614     35.010      0.000      86.403      96.652\n",
       "mnth          -4.5577      0.682     -6.681      0.000      -5.895      -3.221\n",
       "==============================================================================\n",
       "Omnibus:                     2505.288   Durbin-Watson:                   0.346\n",
       "Prob(Omnibus):                  0.000   Jarque-Bera (JB):             3848.756\n",
       "Skew:                           1.031   Prob(JB):                         0.00\n",
       "Kurtosis:                       4.033   Cond. No.                         23.4\n",
       "==============================================================================\n",
       "\n",
       "Warnings:\n",
       "[1] Standard Errors assume that the covariance matrix of the errors is correctly specified.\n",
       "\"\"\""
      ]
     },
     "execution_count": 18,
     "metadata": {},
     "output_type": "execute_result"
    }
   ],
   "source": [
    "formula = 'cnt ~ season + yr + mnth'\n",
    "\n",
    "fitted_model = smf.ols(formula=formula, data=hour).fit()\n",
    "fitted_model.summary()"
   ]
  },
  {
   "cell_type": "code",
   "execution_count": 28,
   "metadata": {},
   "outputs": [
    {
     "data": {
      "text/html": [
       "<table class=\"simpletable\">\n",
       "<caption>OLS Regression Results</caption>\n",
       "<tr>\n",
       "  <th>Dep. Variable:</th>           <td>cnt</td>       <th>  R-squared:         </th> <td>   0.813</td> \n",
       "</tr>\n",
       "<tr>\n",
       "  <th>Model:</th>                   <td>OLS</td>       <th>  Adj. R-squared:    </th> <td>   0.806</td> \n",
       "</tr>\n",
       "<tr>\n",
       "  <th>Method:</th>             <td>Least Squares</td>  <th>  F-statistic:       </th> <td>   127.7</td> \n",
       "</tr>\n",
       "<tr>\n",
       "  <th>Date:</th>             <td>Tue, 19 Nov 2019</td> <th>  Prob (F-statistic):</th> <td>4.30e-238</td>\n",
       "</tr>\n",
       "<tr>\n",
       "  <th>Time:</th>                 <td>13:33:34</td>     <th>  Log-Likelihood:    </th> <td> -5957.2</td> \n",
       "</tr>\n",
       "<tr>\n",
       "  <th>No. Observations:</th>      <td>   731</td>      <th>  AIC:               </th> <td>1.196e+04</td>\n",
       "</tr>\n",
       "<tr>\n",
       "  <th>Df Residuals:</th>          <td>   706</td>      <th>  BIC:               </th> <td>1.208e+04</td>\n",
       "</tr>\n",
       "<tr>\n",
       "  <th>Df Model:</th>              <td>    24</td>      <th>                     </th>     <td> </td>    \n",
       "</tr>\n",
       "<tr>\n",
       "  <th>Covariance Type:</th>      <td>nonrobust</td>    <th>                     </th>     <td> </td>    \n",
       "</tr>\n",
       "</table>\n",
       "<table class=\"simpletable\">\n",
       "<tr>\n",
       "           <td></td>             <th>coef</th>     <th>std err</th>      <th>t</th>      <th>P>|t|</th>  <th>[0.025</th>    <th>0.975]</th>  \n",
       "</tr>\n",
       "<tr>\n",
       "  <th>Intercept</th>          <td> 1094.1721</td> <td>  137.808</td> <td>    7.940</td> <td> 0.000</td> <td>  823.609</td> <td> 1364.735</td>\n",
       "</tr>\n",
       "<tr>\n",
       "  <th>C(season)[T.2]</th>     <td>  903.6882</td> <td>  198.420</td> <td>    4.554</td> <td> 0.000</td> <td>  514.124</td> <td> 1293.253</td>\n",
       "</tr>\n",
       "<tr>\n",
       "  <th>C(season)[T.3]</th>     <td> 1152.8474</td> <td>  234.163</td> <td>    4.923</td> <td> 0.000</td> <td>  693.109</td> <td> 1612.586</td>\n",
       "</tr>\n",
       "<tr>\n",
       "  <th>C(season)[T.4]</th>     <td> 1851.9846</td> <td>  198.749</td> <td>    9.318</td> <td> 0.000</td> <td> 1461.774</td> <td> 2242.195</td>\n",
       "</tr>\n",
       "<tr>\n",
       "  <th>C(yr)[T.1]</th>         <td> 2135.1007</td> <td>   63.232</td> <td>   33.766</td> <td> 0.000</td> <td> 2010.956</td> <td> 2259.245</td>\n",
       "</tr>\n",
       "<tr>\n",
       "  <th>C(mnth)[T.2]</th>       <td>  402.7794</td> <td>  156.500</td> <td>    2.574</td> <td> 0.010</td> <td>   95.517</td> <td>  710.041</td>\n",
       "</tr>\n",
       "<tr>\n",
       "  <th>C(mnth)[T.3]</th>       <td> 1189.3042</td> <td>  168.717</td> <td>    7.049</td> <td> 0.000</td> <td>  858.057</td> <td> 1520.551</td>\n",
       "</tr>\n",
       "<tr>\n",
       "  <th>C(mnth)[T.4]</th>       <td> 1406.0764</td> <td>  251.428</td> <td>    5.592</td> <td> 0.000</td> <td>  912.441</td> <td> 1899.712</td>\n",
       "</tr>\n",
       "<tr>\n",
       "  <th>C(mnth)[T.5]</th>       <td> 2220.3564</td> <td>  250.650</td> <td>    8.858</td> <td> 0.000</td> <td> 1728.247</td> <td> 2712.466</td>\n",
       "</tr>\n",
       "<tr>\n",
       "  <th>C(mnth)[T.6]</th>       <td> 2411.0551</td> <td>  243.998</td> <td>    9.881</td> <td> 0.000</td> <td> 1932.006</td> <td> 2890.104</td>\n",
       "</tr>\n",
       "<tr>\n",
       "  <th>C(mnth)[T.7]</th>       <td> 2060.2300</td> <td>  280.035</td> <td>    7.357</td> <td> 0.000</td> <td> 1510.429</td> <td> 2610.030</td>\n",
       "</tr>\n",
       "<tr>\n",
       "  <th>C(mnth)[T.8]</th>       <td> 2190.9188</td> <td>  279.845</td> <td>    7.829</td> <td> 0.000</td> <td> 1641.491</td> <td> 2740.347</td>\n",
       "</tr>\n",
       "<tr>\n",
       "  <th>C(mnth)[T.9]</th>       <td> 2327.2374</td> <td>  256.484</td> <td>    9.074</td> <td> 0.000</td> <td> 1823.675</td> <td> 2830.800</td>\n",
       "</tr>\n",
       "<tr>\n",
       "  <th>C(mnth)[T.10]</th>      <td> 1335.3481</td> <td>  251.093</td> <td>    5.318</td> <td> 0.000</td> <td>  842.370</td> <td> 1828.327</td>\n",
       "</tr>\n",
       "<tr>\n",
       "  <th>C(mnth)[T.11]</th>      <td>  196.8944</td> <td>  252.280</td> <td>    0.780</td> <td> 0.435</td> <td> -298.414</td> <td>  692.202</td>\n",
       "</tr>\n",
       "<tr>\n",
       "  <th>C(mnth)[T.12]</th>      <td>  130.3107</td> <td>  199.783</td> <td>    0.652</td> <td> 0.514</td> <td> -261.929</td> <td>  522.551</td>\n",
       "</tr>\n",
       "<tr>\n",
       "  <th>C(holiday)[T.1]</th>    <td> -113.5181</td> <td>  177.160</td> <td>   -0.641</td> <td> 0.522</td> <td> -461.342</td> <td>  234.306</td>\n",
       "</tr>\n",
       "<tr>\n",
       "  <th>C(weekday)[T.1]</th>    <td> -125.7873</td> <td>   79.114</td> <td>   -1.590</td> <td> 0.112</td> <td> -281.114</td> <td>   29.539</td>\n",
       "</tr>\n",
       "<tr>\n",
       "  <th>C(weekday)[T.2]</th>    <td>   20.0729</td> <td>   85.496</td> <td>    0.235</td> <td> 0.814</td> <td> -147.783</td> <td>  187.929</td>\n",
       "</tr>\n",
       "<tr>\n",
       "  <th>C(weekday)[T.3]</th>    <td>  100.9335</td> <td>   85.785</td> <td>    1.177</td> <td> 0.240</td> <td>  -67.491</td> <td>  269.357</td>\n",
       "</tr>\n",
       "<tr>\n",
       "  <th>C(weekday)[T.4]</th>    <td>  131.1409</td> <td>   84.803</td> <td>    1.546</td> <td> 0.122</td> <td>  -35.354</td> <td>  297.636</td>\n",
       "</tr>\n",
       "<tr>\n",
       "  <th>C(weekday)[T.5]</th>    <td>  137.6842</td> <td>   85.041</td> <td>    1.619</td> <td> 0.106</td> <td>  -29.278</td> <td>  304.647</td>\n",
       "</tr>\n",
       "<tr>\n",
       "  <th>C(weekday)[T.6]</th>    <td>  455.9144</td> <td>  117.864</td> <td>    3.868</td> <td> 0.000</td> <td>  224.509</td> <td>  687.320</td>\n",
       "</tr>\n",
       "<tr>\n",
       "  <th>C(workingday)[T.1]</th> <td>  377.5624</td> <td>   73.868</td> <td>    5.111</td> <td> 0.000</td> <td>  232.535</td> <td>  522.590</td>\n",
       "</tr>\n",
       "<tr>\n",
       "  <th>C(weathersit)[T.2]</th> <td> -717.8321</td> <td>   68.630</td> <td>  -10.460</td> <td> 0.000</td> <td> -852.575</td> <td> -583.090</td>\n",
       "</tr>\n",
       "<tr>\n",
       "  <th>C(weathersit)[T.3]</th> <td>-2611.8422</td> <td>  194.900</td> <td>  -13.401</td> <td> 0.000</td> <td>-2994.495</td> <td>-2229.190</td>\n",
       "</tr>\n",
       "</table>\n",
       "<table class=\"simpletable\">\n",
       "<tr>\n",
       "  <th>Omnibus:</th>       <td>124.638</td> <th>  Durbin-Watson:     </th> <td>   1.181</td> \n",
       "</tr>\n",
       "<tr>\n",
       "  <th>Prob(Omnibus):</th> <td> 0.000</td>  <th>  Jarque-Bera (JB):  </th> <td> 496.421</td> \n",
       "</tr>\n",
       "<tr>\n",
       "  <th>Skew:</th>          <td>-0.739</td>  <th>  Prob(JB):          </th> <td>1.60e-108</td>\n",
       "</tr>\n",
       "<tr>\n",
       "  <th>Kurtosis:</th>      <td> 6.756</td>  <th>  Cond. No.          </th> <td>6.87e+15</td> \n",
       "</tr>\n",
       "</table><br/><br/>Warnings:<br/>[1] Standard Errors assume that the covariance matrix of the errors is correctly specified.<br/>[2] The smallest eigenvalue is 3.61e-29. This might indicate that there are<br/>strong multicollinearity problems or that the design matrix is singular."
      ],
      "text/plain": [
       "<class 'statsmodels.iolib.summary.Summary'>\n",
       "\"\"\"\n",
       "                            OLS Regression Results                            \n",
       "==============================================================================\n",
       "Dep. Variable:                    cnt   R-squared:                       0.813\n",
       "Model:                            OLS   Adj. R-squared:                  0.806\n",
       "Method:                 Least Squares   F-statistic:                     127.7\n",
       "Date:                Tue, 19 Nov 2019   Prob (F-statistic):          4.30e-238\n",
       "Time:                        13:33:34   Log-Likelihood:                -5957.2\n",
       "No. Observations:                 731   AIC:                         1.196e+04\n",
       "Df Residuals:                     706   BIC:                         1.208e+04\n",
       "Df Model:                          24                                         \n",
       "Covariance Type:            nonrobust                                         \n",
       "======================================================================================\n",
       "                         coef    std err          t      P>|t|      [0.025      0.975]\n",
       "--------------------------------------------------------------------------------------\n",
       "Intercept           1094.1721    137.808      7.940      0.000     823.609    1364.735\n",
       "C(season)[T.2]       903.6882    198.420      4.554      0.000     514.124    1293.253\n",
       "C(season)[T.3]      1152.8474    234.163      4.923      0.000     693.109    1612.586\n",
       "C(season)[T.4]      1851.9846    198.749      9.318      0.000    1461.774    2242.195\n",
       "C(yr)[T.1]          2135.1007     63.232     33.766      0.000    2010.956    2259.245\n",
       "C(mnth)[T.2]         402.7794    156.500      2.574      0.010      95.517     710.041\n",
       "C(mnth)[T.3]        1189.3042    168.717      7.049      0.000     858.057    1520.551\n",
       "C(mnth)[T.4]        1406.0764    251.428      5.592      0.000     912.441    1899.712\n",
       "C(mnth)[T.5]        2220.3564    250.650      8.858      0.000    1728.247    2712.466\n",
       "C(mnth)[T.6]        2411.0551    243.998      9.881      0.000    1932.006    2890.104\n",
       "C(mnth)[T.7]        2060.2300    280.035      7.357      0.000    1510.429    2610.030\n",
       "C(mnth)[T.8]        2190.9188    279.845      7.829      0.000    1641.491    2740.347\n",
       "C(mnth)[T.9]        2327.2374    256.484      9.074      0.000    1823.675    2830.800\n",
       "C(mnth)[T.10]       1335.3481    251.093      5.318      0.000     842.370    1828.327\n",
       "C(mnth)[T.11]        196.8944    252.280      0.780      0.435    -298.414     692.202\n",
       "C(mnth)[T.12]        130.3107    199.783      0.652      0.514    -261.929     522.551\n",
       "C(holiday)[T.1]     -113.5181    177.160     -0.641      0.522    -461.342     234.306\n",
       "C(weekday)[T.1]     -125.7873     79.114     -1.590      0.112    -281.114      29.539\n",
       "C(weekday)[T.2]       20.0729     85.496      0.235      0.814    -147.783     187.929\n",
       "C(weekday)[T.3]      100.9335     85.785      1.177      0.240     -67.491     269.357\n",
       "C(weekday)[T.4]      131.1409     84.803      1.546      0.122     -35.354     297.636\n",
       "C(weekday)[T.5]      137.6842     85.041      1.619      0.106     -29.278     304.647\n",
       "C(weekday)[T.6]      455.9144    117.864      3.868      0.000     224.509     687.320\n",
       "C(workingday)[T.1]   377.5624     73.868      5.111      0.000     232.535     522.590\n",
       "C(weathersit)[T.2]  -717.8321     68.630    -10.460      0.000    -852.575    -583.090\n",
       "C(weathersit)[T.3] -2611.8422    194.900    -13.401      0.000   -2994.495   -2229.190\n",
       "==============================================================================\n",
       "Omnibus:                      124.638   Durbin-Watson:                   1.181\n",
       "Prob(Omnibus):                  0.000   Jarque-Bera (JB):              496.421\n",
       "Skew:                          -0.739   Prob(JB):                    1.60e-108\n",
       "Kurtosis:                       6.756   Cond. No.                     6.87e+15\n",
       "==============================================================================\n",
       "\n",
       "Warnings:\n",
       "[1] Standard Errors assume that the covariance matrix of the errors is correctly specified.\n",
       "[2] The smallest eigenvalue is 3.61e-29. This might indicate that there are\n",
       "strong multicollinearity problems or that the design matrix is singular.\n",
       "\"\"\""
      ]
     },
     "execution_count": 28,
     "metadata": {},
     "output_type": "execute_result"
    }
   ],
   "source": [
    "formula = 'cnt ~ C(season) + C(yr) + C(mnth) + C(holiday) + C(weekday) + C(workingday) + C(weathersit)'\n",
    "\n",
    "fitted_model = smf.ols(formula=formula, data=day).fit()\n",
    "fitted_model.summary()"
   ]
  },
  {
   "cell_type": "code",
   "execution_count": null,
   "metadata": {},
   "outputs": [],
   "source": []
  }
 ],
 "metadata": {
  "kernelspec": {
   "display_name": "Python 3",
   "language": "python",
   "name": "python3"
  },
  "language_info": {
   "codemirror_mode": {
    "name": "ipython",
    "version": 3
   },
   "file_extension": ".py",
   "mimetype": "text/x-python",
   "name": "python",
   "nbconvert_exporter": "python",
   "pygments_lexer": "ipython3",
   "version": "3.7.3"
  }
 },
 "nbformat": 4,
 "nbformat_minor": 2
}
